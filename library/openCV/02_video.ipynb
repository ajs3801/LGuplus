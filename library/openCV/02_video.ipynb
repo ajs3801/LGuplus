{
 "cells": [
  {
   "cell_type": "code",
   "execution_count": 2,
   "id": "6b5decca",
   "metadata": {},
   "outputs": [
    {
     "name": "stdout",
     "output_type": "stream",
     "text": [
      "End by User\n"
     ]
    },
    {
     "data": {
      "text/plain": [
       "-1"
      ]
     },
     "execution_count": 2,
     "metadata": {},
     "output_type": "execute_result"
    }
   ],
   "source": [
    "# 영상 파일 불러오기\n",
    "import cv2\n",
    "cap = cv2.VideoCapture('video/corgi.mp4')\n",
    "\n",
    "while cap.isOpened(): # 동영상 파일이 올바로 열렸는지?\n",
    "  ret, frame = cap.read() # ret 성공여부, frame 받아온 이미지(프레임)\n",
    "\n",
    "  if not ret:\n",
    "    print('End')\n",
    "    break\n",
    "\n",
    "  cv2.imshow('video',frame)\n",
    "\n",
    "  # waitKey로 동영상 프레임도 조절가능\n",
    "  # 0xFF(11111111)와 and연산 하는 이유?\n",
    "  # 아스키코드가 1byte(8bit)니까 cv2.waitKey(1)의 반환값을 8bit로 맞추기 위해 \n",
    "  if cv2.waitKey(1) & 0xFF == ord('q'): #cv2.waitKey -> 입력받은 키보드 아스키코드 반환 | ord() -> 파라미터의 아스키코드 값 반환\n",
    "    print('End by User')\n",
    "    break\n",
    "\n",
    "cap.release()\n",
    "\n",
    "cv2.destroyAllWindows()\n",
    "cv2.waitKey(1)"
   ]
  },
  {
   "cell_type": "code",
   "execution_count": 3,
   "id": "b3eaf0a7",
   "metadata": {},
   "outputs": [
    {
     "data": {
      "text/plain": [
       "-1"
      ]
     },
     "execution_count": 3,
     "metadata": {},
     "output_type": "execute_result"
    }
   ],
   "source": [
    "# 카메라 출력\n",
    "import cv2\n",
    "\n",
    "cap = cv2.VideoCapture(0) # 0번째 카메라 장치 (Device ID)를 넣음\n",
    "\n",
    "if not cap.isOpened: # 카메라 여는 것을 실패하면\n",
    "  exit()\n",
    "\n",
    "while True:\n",
    "  ret, frame = cap.read()\n",
    "\n",
    "  if not ret:\n",
    "    break\n",
    "\n",
    "  cv2.imshow('Camera', frame)\n",
    "  \n",
    "  if cv2.waitKey(1) & 0xFF == ord('q'):\n",
    "    break\n",
    "\n",
    "cap.release()\n",
    "\n",
    "cv2.destroyAllWindows()\n",
    "cv2.waitKey(1)"
   ]
  }
 ],
 "metadata": {
  "interpreter": {
   "hash": "b0fa6594d8f4cbf19f97940f81e996739fb7646882a419484c72d19e05852a7e"
  },
  "kernelspec": {
   "display_name": "Python 3.9.12 64-bit",
   "language": "python",
   "name": "python3912jvsc74a57bd0b0fa6594d8f4cbf19f97940f81e996739fb7646882a419484c72d19e05852a7e"
  },
  "language_info": {
   "codemirror_mode": {
    "name": "ipython",
    "version": 3
   },
   "file_extension": ".py",
   "mimetype": "text/x-python",
   "name": "python",
   "nbconvert_exporter": "python",
   "pygments_lexer": "ipython3",
   "version": "3.9.13"
  }
 },
 "nbformat": 4,
 "nbformat_minor": 5
}
