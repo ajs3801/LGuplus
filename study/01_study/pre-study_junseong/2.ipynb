{
 "cells": [
  {
   "cell_type": "code",
   "execution_count": 1,
   "metadata": {},
   "outputs": [
    {
     "name": "stdout",
     "output_type": "stream",
     "text": [
      "End by User\n"
     ]
    },
    {
     "data": {
      "text/plain": [
       "-1"
      ]
     },
     "execution_count": 1,
     "metadata": {},
     "output_type": "execute_result"
    }
   ],
   "source": [
    "import cv2\n",
    "\n",
    "camera = cv2.VideoCapture(0) # 0번째 카메라 장치 (Device ID)를 넣음\n",
    "\n",
    "if not camera.isOpened:\n",
    "  exit()\n",
    "\n",
    "while camera.isOpened(): \n",
    "  ret, frame = camera.read() \n",
    "\n",
    "  if not ret:\n",
    "    break\n",
    "  \n",
    "  process_img = cv2.Canny(frame,50,200) #canny edge detection 함수 적용\n",
    "  cv2.imshow('video',process_img)\n",
    "\n",
    "  if cv2.waitKey(1) & 0xFF == ord('q'):\n",
    "    print('End by User')\n",
    "    break\n",
    "\n",
    "camera.release()\n",
    "\n",
    "cv2.destroyAllWindows()\n",
    "cv2.waitKey(1)\n"
   ]
  },
  {
   "cell_type": "code",
   "execution_count": null,
   "metadata": {},
   "outputs": [],
   "source": []
  }
 ],
 "metadata": {
  "interpreter": {
   "hash": "7500d5622bf2206d241ee1fab9e08b65112b6fa2012fce70b42a0e7cc15625be"
  },
  "kernelspec": {
   "display_name": "Python 3.9.13 ('tf_mac')",
   "language": "python",
   "name": "python3"
  },
  "language_info": {
   "codemirror_mode": {
    "name": "ipython",
    "version": 3
   },
   "file_extension": ".py",
   "mimetype": "text/x-python",
   "name": "python",
   "nbconvert_exporter": "python",
   "pygments_lexer": "ipython3",
   "version": "3.9.13"
  },
  "orig_nbformat": 4
 },
 "nbformat": 4,
 "nbformat_minor": 2
}
