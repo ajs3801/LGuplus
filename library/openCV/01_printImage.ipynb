{
 "cells": [
  {
   "cell_type": "code",
   "execution_count": 1,
   "id": "ff9fe5a0",
   "metadata": {
    "scrolled": false
   },
   "outputs": [
    {
     "name": "stdout",
     "output_type": "stream",
     "text": [
      "\u001b[33mDEPRECATION: Configuring installation scheme with distutils config files is deprecated and will no longer work in the near future. If you are using a Homebrew or Linuxbrew Python, please see discussion at https://github.com/Homebrew/homebrew-core/issues/76621\u001b[0m\u001b[33m\n",
      "\u001b[0mRequirement already satisfied: opencv-contrib-python in /opt/homebrew/lib/python3.9/site-packages (4.5.5.64)\n",
      "Requirement already satisfied: numpy>=1.19.3 in /opt/homebrew/lib/python3.9/site-packages (from opencv-contrib-python) (1.22.3)\n",
      "\u001b[33mDEPRECATION: Configuring installation scheme with distutils config files is deprecated and will no longer work in the near future. If you are using a Homebrew or Linuxbrew Python, please see discussion at https://github.com/Homebrew/homebrew-core/issues/76621\u001b[0m\u001b[33m\n",
      "\u001b[0m\u001b[33mWARNING: There was an error checking the latest version of pip.\u001b[0m\u001b[33m\n",
      "\u001b[0m"
     ]
    }
   ],
   "source": [
    "!pip3 install opencv-contrib-python"
   ]
  },
  {
   "cell_type": "code",
   "execution_count": 2,
   "id": "e781f8c0",
   "metadata": {},
   "outputs": [
    {
     "data": {
      "text/plain": [
       "'4.5.5'"
      ]
     },
     "execution_count": 2,
     "metadata": {},
     "output_type": "execute_result"
    }
   ],
   "source": [
    "# openCV가 설치 되었는지 버전-확인\n",
    "import cv2\n",
    "cv2.__version__"
   ]
  },
  {
   "cell_type": "code",
   "execution_count": 2,
   "id": "3745d6f3",
   "metadata": {},
   "outputs": [
    {
     "data": {
      "text/plain": [
       "-1"
      ]
     },
     "execution_count": 2,
     "metadata": {},
     "output_type": "execute_result"
    }
   ],
   "source": [
    "import cv2\n",
    "\n",
    "img = cv2.imread('image/img.jpg') # 파일 읽어오기\n",
    "\n",
    "cv2.imshow('Welsh Corgi', img) # 첫번째인자 : 창 이름 | 두번째인자 : 출력할 것\n",
    "\n",
    "cv2.waitKey(0) # 0 -> 무한정 대기\n",
    "\n",
    "# .waitKey 1.\n",
    "# key = cv2.waitKey(0)\n",
    "# print(key) #입력받은 키보드값 아스키코드를 받음\n",
    "\n",
    "# .waitKey 2.\n",
    "# cv2.waitKey(5000) # 5초동안 사용자 키 입력 대기\n",
    "\n",
    "cv2.destroyAllWindows() #모든 창 닫기\n",
    "cv2.waitKey(1)"
   ]
  },
  {
   "cell_type": "code",
   "execution_count": 2,
   "id": "39f15cd3",
   "metadata": {},
   "outputs": [],
   "source": [
    "# 읽기 옵션\n",
    "# 1. cv2.IMREAD_COLOR : 컬러 이미지, 투명 영역은 무시 (기본값)\n",
    "# 2. cv2.IMREAD_GRAYSCALE : 흑백 이미지\n",
    "# 3. cv2.IMREAD_UNCHANGED : 투명 영역까지 포함\n",
    "\n",
    "import cv2\n",
    "\n",
    "img_color= cv2.imread('img.jpg',cv2.IMREAD_COLOR)\n",
    "img_gray= cv2.imread('img.jpg',cv2.IMREAD_GRAYSCALE)\n",
    "img_unchanged= cv2.imread('img.jpg',cv2.IMREAD_UNCHANGED)\n",
    "\n",
    "cv2.imshow('IMREAD_COLOR', img_color)\n",
    "cv2.imshow('IMREAD_GRAY', img_gray)\n",
    "cv2.imshow('IMREAD_UNCHANGED', img_unchanged)\n",
    "\n",
    "cv2.waitKey(0)\n",
    "\n",
    "cv2.destroyAllWindows()\n",
    "cv2.waitKey(1)"
   ]
  },
  {
   "cell_type": "code",
   "execution_count": 1,
   "id": "0edd406b",
   "metadata": {},
   "outputs": [
    {
     "data": {
      "text/plain": [
       "(427, 640, 3)"
      ]
     },
     "execution_count": 1,
     "metadata": {},
     "output_type": "execute_result"
    }
   ],
   "source": [
    "# Shape\n",
    "# 이미지의 height, width, channel 정보\n",
    "\n",
    "import cv2\n",
    "\n",
    "img = cv2.imread('img.jpg')\n",
    "img.shape #세로, 가로, Channel 정보 "
   ]
  }
 ],
 "metadata": {
  "interpreter": {
   "hash": "b0fa6594d8f4cbf19f97940f81e996739fb7646882a419484c72d19e05852a7e"
  },
  "kernelspec": {
   "display_name": "Python 3.9.12 64-bit",
   "language": "python",
   "name": "python3912jvsc74a57bd0b0fa6594d8f4cbf19f97940f81e996739fb7646882a419484c72d19e05852a7e"
  },
  "language_info": {
   "codemirror_mode": {
    "name": "ipython",
    "version": 3
   },
   "file_extension": ".py",
   "mimetype": "text/x-python",
   "name": "python",
   "nbconvert_exporter": "python",
   "pygments_lexer": "ipython3",
   "version": "3.9.13"
  }
 },
 "nbformat": 4,
 "nbformat_minor": 5
}
