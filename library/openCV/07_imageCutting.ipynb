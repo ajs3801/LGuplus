{
 "cells": [
  {
   "cell_type": "code",
   "execution_count": 2,
   "metadata": {},
   "outputs": [
    {
     "data": {
      "text/plain": [
       "-1"
      ]
     },
     "execution_count": 2,
     "metadata": {},
     "output_type": "execute_result"
    }
   ],
   "source": [
    "# 이미지 자르기\n",
    "\n",
    "import cv2\n",
    "\n",
    "img = cv2.imread('image/img.jpg')\n",
    "\n",
    "# crop = img[세로범위:가로범위]\n",
    "crop = img[100:200, 200:400] #세로로 100-200까지, 가로로 200-400까지 자름\n",
    "\n",
    "cv2.imshow('img', img)\n",
    "cv2.imshow('crop',crop)\n",
    "\n",
    "cv2.waitKey(0)\n",
    "\n",
    "cv2.destroyAllWindows()\n",
    "cv2.waitKey(1)"
   ]
  },
  {
   "cell_type": "code",
   "execution_count": 4,
   "metadata": {},
   "outputs": [
    {
     "data": {
      "text/plain": [
       "-1"
      ]
     },
     "execution_count": 4,
     "metadata": {},
     "output_type": "execute_result"
    }
   ],
   "source": [
    "# 영역을 잘라서 기존 윈도우에 표시\n",
    "import cv2\n",
    "\n",
    "img = cv2.imread('image/img.jpg')\n",
    "\n",
    "# crop = img[세로범위:가로범위]\n",
    "crop = img[100:200, 200:400] #세로로 100-200까지, 가로로 200-400까지 자름\n",
    "img[100:200 , 400:600] = crop #자른 이미지로 대체\n",
    "\n",
    "cv2.imshow('img', img)\n",
    "\n",
    "cv2.waitKey(0)\n",
    "\n",
    "cv2.destroyAllWindows()\n",
    "cv2.waitKey(1)"
   ]
  }
 ],
 "metadata": {
  "interpreter": {
   "hash": "b0fa6594d8f4cbf19f97940f81e996739fb7646882a419484c72d19e05852a7e"
  },
  "kernelspec": {
   "display_name": "Python 3.9.12 64-bit",
   "language": "python",
   "name": "python3"
  },
  "language_info": {
   "codemirror_mode": {
    "name": "ipython",
    "version": 3
   },
   "file_extension": ".py",
   "mimetype": "text/x-python",
   "name": "python",
   "nbconvert_exporter": "python",
   "pygments_lexer": "ipython3",
   "version": "3.9.13"
  },
  "orig_nbformat": 4
 },
 "nbformat": 4,
 "nbformat_minor": 2
}
