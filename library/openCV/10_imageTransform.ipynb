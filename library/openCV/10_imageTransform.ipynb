{
 "cells": [
  {
   "cell_type": "markdown",
   "metadata": {},
   "source": [
    "# 이미지 변형"
   ]
  },
  {
   "cell_type": "code",
   "execution_count": 1,
   "metadata": {},
   "outputs": [
    {
     "data": {
      "text/plain": [
       "-1"
      ]
     },
     "execution_count": 1,
     "metadata": {},
     "output_type": "execute_result"
    }
   ],
   "source": [
    "# 흑백으로 이미지 변경\n",
    "\n",
    "import cv2\n",
    "\n",
    "img = cv2.imread('image/img.jpg')\n",
    "\n",
    "dst = cv2.cvtColor(img,cv2.COLOR_BGR2GRAY) #BGR -> GRAY\n",
    "\n",
    "cv2.imshow('img' , img)\n",
    "cv2.imshow('gray', dst)\n",
    "\n",
    "cv2.waitKey(0)\n",
    "\n",
    "cv2.destroyAllWindows()\n",
    "cv2.waitKey(1)"
   ]
  },
  {
   "cell_type": "code",
   "execution_count": null,
   "metadata": {},
   "outputs": [],
   "source": [
    "# 이미지 변형 (흐림 효과)\n",
    "# 가우시안 블러 \n",
    "# 1. 커널 사이즈 변화에 따른 흐림\n",
    "# 2. 표준 편차의 변화에 따른 흐림\n",
    "\n",
    "import cv2\n",
    "\n",
    "img = cv2.imread('image/img.jpg')\n",
    "\n",
    "# (3,3) , (5,5) , (7,7) -> 7로 갈수록 블러효과가 커짐\n",
    "kernel_3 = cv2.GaussianBlur(img, (3,3) , 0)\n",
    "#                                       표준편차\n",
    "kernel_5 = cv2.GaussianBlur(img, (5,5) , 0)\n",
    "kernel_7 = cv2.GaussianBlur(img, (7,7) , 0)\n",
    "\n",
    "sigma_1 = cv2.GaussianBlur(img,(0,0),1)\n",
    "sigma_2 = cv2.GaussianBlur(img,(0,0),2)\n",
    "sigma_3 = cv2.GaussianBlur(img,(0,0),3)\n",
    "\n",
    "cv2.imshow('img' , img)\n",
    "cv2.imshow('blur_3', kernel_3)\n",
    "cv2.imshow('blur_5', kernel_5)\n",
    "cv2.imshow('blur_7', kernel_7)\n",
    "cv2.imshow('sigma_1',sigma_1)\n",
    "cv2.imshow('sigma_2',sigma_2)\n",
    "cv2.imshow('sigma_3',sigma_3)\n",
    "\n",
    "cv2.waitKey(0)\n",
    "\n",
    "cv2.destroyAllWindows()\n",
    "cv2.waitKey(1)"
   ]
  },
  {
   "cell_type": "code",
   "execution_count": 4,
   "metadata": {},
   "outputs": [
    {
     "data": {
      "text/plain": [
       "-1"
      ]
     },
     "execution_count": 4,
     "metadata": {},
     "output_type": "execute_result"
    }
   ],
   "source": [
    "# 이미지 변형 (원근)\n",
    "\n",
    "# 사다리꼴 이미지 펼치기\n",
    "\n",
    "import cv2\n",
    "import numpy as np\n",
    "\n",
    "img = cv2.imread('image/newspaper.jpg')\n",
    "\n",
    "width, height = 640, 240\n",
    "\n",
    "#                왼쪽위        오른쪽위       오른쪽아래       왼쪽아래 (시계 방향으로 4 지점 정의)\n",
    "src = np.array([[511,352] , [1008,345] , [1122,584] , [455,594]], dtype= np.float32) #네 개의 지점\n",
    "dst = np.array([[0,0] , [width,0] , [width,height] , [0,height]], dtype=np.float32)\n",
    "\n",
    "matrix = cv2.getPerspectiveTransform(src,dst) #Matrix를 얻어옴\n",
    "result = cv2.warpPerspective(img, matrix, (width,height)) #matrix 대로 변환을 함\n",
    "\n",
    "cv2.imshow('img' , img)\n",
    "cv2.imshow('result', result)\n",
    "\n",
    "cv2.waitKey(0)\n",
    "\n",
    "cv2.destroyAllWindows()\n",
    "cv2.waitKey(1)"
   ]
  },
  {
   "cell_type": "code",
   "execution_count": 5,
   "metadata": {},
   "outputs": [
    {
     "data": {
      "text/plain": [
       "-1"
      ]
     },
     "execution_count": 5,
     "metadata": {},
     "output_type": "execute_result"
    }
   ],
   "source": [
    "# 이미지 변형 (회전)\n",
    "\n",
    "import cv2\n",
    "import numpy as np\n",
    "\n",
    "img = cv2.imread('image/poker.jpg')\n",
    "\n",
    "width, height = 530, 710\n",
    "\n",
    "#                왼쪽위        오른쪽위       오른쪽아래       왼쪽아래 (시계 방향으로 4 지점 정의)\n",
    "src = np.array([[702,143] , [1133,414] , [726,1007] , [276,700]], dtype = np.float32) #네 개의 지점\n",
    "dst = np.array([[0,0] , [width,0] , [width,height] , [0,height]], dtype = np.float32)\n",
    "\n",
    "matrix = cv2.getPerspectiveTransform(src,dst) #Matrix를 얻어옴\n",
    "result = cv2.warpPerspective(img, matrix, (width,height)) #matrix 대로 변환을 함\n",
    "\n",
    "cv2.imshow('img' , img)\n",
    "cv2.imshow('result', result)\n",
    "\n",
    "cv2.waitKey(0)\n",
    "\n",
    "cv2.destroyAllWindows()\n",
    "cv2.waitKey(1)"
   ]
  }
 ],
 "metadata": {
  "interpreter": {
   "hash": "b0fa6594d8f4cbf19f97940f81e996739fb7646882a419484c72d19e05852a7e"
  },
  "kernelspec": {
   "display_name": "Python 3.9.12 64-bit",
   "language": "python",
   "name": "python3"
  },
  "language_info": {
   "codemirror_mode": {
    "name": "ipython",
    "version": 3
   },
   "file_extension": ".py",
   "mimetype": "text/x-python",
   "name": "python",
   "nbconvert_exporter": "python",
   "pygments_lexer": "ipython3",
   "version": "3.9.12"
  },
  "orig_nbformat": 4
 },
 "nbformat": 4,
 "nbformat_minor": 2
}
