{
 "cells": [
  {
   "cell_type": "code",
   "execution_count": 2,
   "metadata": {},
   "outputs": [
    {
     "data": {
      "text/plain": [
       "-1"
      ]
     },
     "execution_count": 2,
     "metadata": {},
     "output_type": "execute_result"
    }
   ],
   "source": [
    "# 크기 조정\n",
    "# 1. 고정 크기\n",
    "# 2. 비율\n",
    "\n",
    "import cv2\n",
    "\n",
    "img = cv2.imread('image/img.jpg')\n",
    "dst1 = cv2.resize(img, (400,500)) # 400,500으로 변환\n",
    "dst2 = cv2.resize(img, None, fx=0.5 , fy=0.5) #0.5배로 축소\n",
    "\n",
    "cv2.imshow('img', img)\n",
    "cv2.imshow('resize1', dst1)\n",
    "cv2.imshow('resize2', dst2)\n",
    "\n",
    "cv2.waitKey(0)\n",
    "\n",
    "cv2.destroyAllWindows()\n",
    "cv2.waitKey(1)"
   ]
  },
  {
   "cell_type": "code",
   "execution_count": 1,
   "metadata": {},
   "outputs": [],
   "source": [
    "# 보간법 : 이미지를 늘릴거나 줄일 때 자연스럽게 만드는 것\n",
    "# 1. cv2.INTER_AREA : 크기 줄일 때 사용\n",
    "# 2. cv2.INTER_CUBIC : 크기 늘릴 때 사용 (속도 느림, 퀄리티 좋음)\n",
    "# 3. cv2.INTER_LINEAR : 크기 늘릴 때 사용 (기본값)\n",
    "\n",
    "import cv2\n",
    "\n",
    "img = cv2.imread('image/img.jpg')\n",
    "\n",
    "#축소\n",
    "dst_shrink = cv2.resize(img, None, fx=0.5 , fy=0.5, interpolation = cv2.INTER_AREA) # interpolation : 보간법 사용\n",
    "#확대\n",
    "dst_extend = cv2.resize(img, None, fx=0.5 , fy=0.5, interpolation = cv2.INTER_CUBIC) # interpolation : 보간법 사용\n",
    "\n",
    "cv2.imshow('img', img)\n",
    "cv2.imshow('resize2', dst)\n",
    "\n",
    "cv2.waitKey(0)\n",
    "\n",
    "cv2.destroyAllWindows()\n",
    "cv2.waitKey(1)"
   ]
  },
  {
   "cell_type": "code",
   "execution_count": 5,
   "metadata": {},
   "outputs": [
    {
     "data": {
      "text/plain": [
       "-1"
      ]
     },
     "execution_count": 5,
     "metadata": {},
     "output_type": "execute_result"
    }
   ],
   "source": [
    "# 동영상\n",
    "\n",
    "import cv2\n",
    "\n",
    "cap = cv2.VideoCapture('video/corgi.mp4')\n",
    "\n",
    "while cap.isOpened():\n",
    "  ret, frame = cap.read()\n",
    "  if not ret:\n",
    "    break\n",
    "\n",
    "  frame_resized = cv2.resize(frame,(400,500))\n",
    "  # frame_resized = cv2.resize(frame,None,fx=1.5,fy=1.5, interpolation=cv2.INTER_CUBIC)\n",
    "\n",
    "  cv2.imshow('video', frame_resized)\n",
    "\n",
    "  if cv2.waitKey(1) == ord('q'):\n",
    "    break\n",
    "\n",
    "cap.release()\n",
    "\n",
    "cv2.destroyAllWindows()\n",
    "cv2.waitKey(1)"
   ]
  },
  {
   "cell_type": "code",
   "execution_count": null,
   "metadata": {},
   "outputs": [],
   "source": []
  }
 ],
 "metadata": {
  "interpreter": {
   "hash": "b0fa6594d8f4cbf19f97940f81e996739fb7646882a419484c72d19e05852a7e"
  },
  "kernelspec": {
   "display_name": "Python 3.9.12 64-bit",
   "language": "python",
   "name": "python3"
  },
  "language_info": {
   "codemirror_mode": {
    "name": "ipython",
    "version": 3
   },
   "file_extension": ".py",
   "mimetype": "text/x-python",
   "name": "python",
   "nbconvert_exporter": "python",
   "pygments_lexer": "ipython3",
   "version": "3.9.13"
  },
  "orig_nbformat": 4
 },
 "nbformat": 4,
 "nbformat_minor": 2
}
