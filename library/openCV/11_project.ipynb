{
 "cells": [
  {
   "cell_type": "code",
   "execution_count": 2,
   "metadata": {},
   "outputs": [
    {
     "name": "stdout",
     "output_type": "stream",
     "text": [
      "385 240\n",
      "385 240\n",
      "354 491\n",
      "354 491\n",
      "147 344\n",
      "147 344\n",
      "555 187\n",
      "359 333\n",
      "359 333\n",
      "503 213\n",
      "103 75\n",
      "103 75\n"
     ]
    },
    {
     "data": {
      "text/plain": [
       "-1"
      ]
     },
     "execution_count": 2,
     "metadata": {},
     "output_type": "execute_result"
    }
   ],
   "source": [
    "# 반자동 스캐너\n",
    "\n",
    "import cv2\n",
    "\n",
    "def mouse_handler(event, x, y, flags, param):\n",
    "  if event == cv2.EVENT_LBUTTONDOWN:\n",
    "    print(x,y)\n",
    "\n",
    "  elif event == cv2.EVENT_LBUTTONUP:\n",
    "    print(x,y)\n",
    "  \n",
    "  elif event == cv2.EVENT_LBUTTONDBLCLK:\n",
    "    print('double click')\n",
    "\n",
    "  # elif event == cv2.EVENT_MOUSEMOVE:\n",
    "  #   print('mouse move')\n",
    "\n",
    "  elif event == cv2.EVENT_RBUTTONDOWN:\n",
    "    print(x,y)\n",
    "\n",
    "img = cv2.imread('image/poker.jpg')\n",
    "cv2.namedWindow('img')\n",
    "cv2.setMouseCallback('img', mouse_handler)\n",
    "\n",
    "cv2.imshow('img' , img)\n",
    "\n",
    "cv2.waitKey(0)\n",
    "\n",
    "cv2.destroyAllWindows()\n",
    "cv2.waitKey(1)"
   ]
  },
  {
   "cell_type": "code",
   "execution_count": 1,
   "metadata": {},
   "outputs": [
    {
     "data": {
      "text/plain": [
       "-1"
      ]
     },
     "execution_count": 1,
     "metadata": {},
     "output_type": "execute_result"
    }
   ],
   "source": [
    "# Main src\n",
    "\n",
    "import cv2\n",
    "import numpy as np\n",
    "\n",
    "# fields\n",
    "point_list = []\n",
    "src_img = cv2.imread('image/poker.jpg')\n",
    "\n",
    "COLOR = (255,0,255) #색깔\n",
    "THICKNESS = 3 #두께\n",
    "drawing = False # 선을 그릴지 여부\n",
    "\n",
    "# [function : mouse_handler()]\n",
    "def mouse_handler(event, x, y, flags, param):\n",
    "  global drawing\n",
    "  dst_img = src_img.copy()\n",
    "\n",
    "  if event == cv2.EVENT_LBUTTONDOWN:\n",
    "    drawing = True\n",
    "    point_list.append((x,y))\n",
    "\n",
    "  if drawing:\n",
    "    previous_point = None\n",
    "    for point in point_list:\n",
    "      cv2.circle(dst_img,point,15,COLOR,cv2.FILLED)\n",
    "      if previous_point:\n",
    "        cv2.line(dst_img,previous_point,point,COLOR,THICKNESS,cv2.LINE_AA)\n",
    "      previous_point = point\n",
    "    \n",
    "    next_point = (x,y)\n",
    "    if len(point_list) == 4:\n",
    "      show_result()\n",
    "      next_point = point_list[0] # 첫번째 클릭한 지점\n",
    "    \n",
    "    cv2.line(dst_img,previous_point,next_point,COLOR,THICKNESS,cv2.LINE_AA)\n",
    "\n",
    "  if len(point_list) == 4:\n",
    "    show_result()\n",
    "\n",
    "  cv2.imshow('img',dst_img)\n",
    "\n",
    "# [function : show_result()]\n",
    "def show_result():\n",
    "  width, height = 530, 710\n",
    "  src = np.float32(point_list)\n",
    "  dst = np.array([[0,0] , [width,0] , [width,height] , [0,height]], dtype=np.float32)\n",
    "\n",
    "  matrix = cv2.getPerspectiveTransform(src,dst) #Matrix를 얻어옴\n",
    "  result = cv2.warpPerspective(src_img, matrix, (width,height)) #matrix 대로 변환을 함\n",
    "\n",
    "  cv2.imshow('result',result)\n",
    "\n",
    "\n",
    "cv2.namedWindow('img')\n",
    "cv2.setMouseCallback('img',mouse_handler)\n",
    "cv2.imshow('img', src_img)\n",
    "\n",
    "cv2.waitKey(0)\n",
    "\n",
    "cv2.destroyAllWindows()\n",
    "cv2.waitKey(1)"
   ]
  }
 ],
 "metadata": {
  "interpreter": {
   "hash": "b0fa6594d8f4cbf19f97940f81e996739fb7646882a419484c72d19e05852a7e"
  },
  "kernelspec": {
   "display_name": "Python 3.9.12 64-bit",
   "language": "python",
   "name": "python3"
  },
  "language_info": {
   "codemirror_mode": {
    "name": "ipython",
    "version": 3
   },
   "file_extension": ".py",
   "mimetype": "text/x-python",
   "name": "python",
   "nbconvert_exporter": "python",
   "pygments_lexer": "ipython3",
   "version": "3.9.13"
  },
  "orig_nbformat": 4
 },
 "nbformat": 4,
 "nbformat_minor": 2
}
