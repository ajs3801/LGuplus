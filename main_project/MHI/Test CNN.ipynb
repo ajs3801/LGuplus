{
 "cells": [
  {
   "cell_type": "code",
   "execution_count": 1,
   "id": "1aa543d4",
   "metadata": {},
   "outputs": [],
   "source": [
    "import os\n",
    "\n",
    "import matplotlib.pyplot as plt\n",
    "import numpy as np\n",
    "import pandas as pd\n",
    "import torch\n",
    "from PIL import Image\n",
    "from torch import cuda\n",
    "from torch.utils.data import DataLoader\n",
    "from torchvision import datasets, models, transforms\n",
    "\n",
    "%matplotlib inline\n",
    "plt.rcParams['font.size'] = 14"
   ]
  },
  {
   "cell_type": "code",
   "execution_count": 2,
   "id": "e3c3e939",
   "metadata": {},
   "outputs": [],
   "source": [
    "def imshow_tensor(image, ax=None, title=None):\n",
    "    \"\"\"Imshow for Tensor.\"\"\"\n",
    "\n",
    "    if ax is None:\n",
    "        fig, ax = plt.subplots()\n",
    "\n",
    "    # Set the color channel as the third dimension\n",
    "    image = image.numpy().transpose((1, 2, 0))\n",
    "\n",
    "    # Reverse the preprocessing steps\n",
    "    mean = np.array([0.485, 0.456, 0.406])\n",
    "    std = np.array([0.229, 0.224, 0.225])\n",
    "    image = std * image + mean\n",
    "\n",
    "    # Clip the image pixel values\n",
    "    image = np.clip(image, 0, 1)\n",
    "\n",
    "    ax.imshow(image)\n",
    "    plt.axis('off')\n",
    "\n",
    "    return ax, image"
   ]
  },
  {
   "cell_type": "code",
   "execution_count": 3,
   "id": "6df2b498",
   "metadata": {},
   "outputs": [],
   "source": [
    "testdir = f\"./MHI/data/test\"\n",
    "traindir = f\"./MHI/data/train\"\n",
    "validdir = f\"./MHI/data/val\""
   ]
  },
  {
   "cell_type": "code",
   "execution_count": 4,
   "id": "d72ef0e9",
   "metadata": {},
   "outputs": [
    {
     "name": "stdout",
     "output_type": "stream",
     "text": [
      "Train on gpu: True\n",
      "2 gpus detected.\n"
     ]
    }
   ],
   "source": [
    "save_file_name = f'alexnet-transfer.pt'\n",
    "checkpoint_path = f'alexnet-transfer.pth'\n",
    "\n",
    "# Change to fit hardware\n",
    "batch_size = 32\n",
    "\n",
    "# Whether to train on a gpu\n",
    "train_on_gpu = cuda.is_available()\n",
    "print(f'Train on gpu: {train_on_gpu}')\n",
    "\n",
    "# Number of gpus\n",
    "if train_on_gpu:\n",
    "    gpu_count = cuda.device_count()\n",
    "    print(f'{gpu_count} gpus detected.')\n",
    "    if gpu_count > 1:\n",
    "        multi_gpu = True\n",
    "    else:\n",
    "        multi_gpu = False"
   ]
  },
  {
   "cell_type": "code",
   "execution_count": 5,
   "id": "6209f05d",
   "metadata": {},
   "outputs": [],
   "source": [
    "# Image transformations\n",
    "image_transforms = {\n",
    "    # Train uses data augmentation\n",
    "    'train':\n",
    "    transforms.Compose([\n",
    "        transforms.RandomResizedCrop(size=256, scale=(0.8, 1.0)),\n",
    "        transforms.RandomRotation(degrees=15),\n",
    "        transforms.RandomHorizontalFlip(),\n",
    "        transforms.CenterCrop(size=224),  # Image net standards\n",
    "        transforms.ToTensor(),\n",
    "        transforms.Normalize([0.485, 0.456, 0.406],\n",
    "                             [0.229, 0.224, 0.225])  # Imagenet standards\n",
    "    ]),\n",
    "    # Validation does not use augmentation\n",
    "    'valid':\n",
    "    transforms.Compose([\n",
    "        transforms.Resize(size=256),\n",
    "        transforms.CenterCrop(size=224),\n",
    "        transforms.ToTensor(),\n",
    "        transforms.Normalize([0.485, 0.456, 0.406], [0.229, 0.224, 0.225])\n",
    "    ]),\n",
    "    \n",
    "        # Test does not use augmentation\n",
    "    'test':\n",
    "    transforms.Compose([\n",
    "        transforms.Resize(size=256),\n",
    "        transforms.CenterCrop(size=224),\n",
    "        transforms.ToTensor(),\n",
    "        transforms.Normalize([0.485, 0.456, 0.406], [0.229, 0.224, 0.225])\n",
    "    ]),\n",
    "}"
   ]
  },
  {
   "cell_type": "code",
   "execution_count": 6,
   "id": "a8762e44",
   "metadata": {},
   "outputs": [],
   "source": [
    "# Datasets from folders\n",
    "data = {\n",
    "    'train':\n",
    "    datasets.ImageFolder(root=traindir, transform=image_transforms['train']),\n",
    "    'valid':\n",
    "    datasets.ImageFolder(root=validdir, transform=image_transforms['valid']),\n",
    "    'test':\n",
    "    datasets.ImageFolder(root=testdir, transform=image_transforms['test'])\n",
    "}\n",
    "\n",
    "# Dataloader iterators, make sure to shuffle\n",
    "dataloaders = {\n",
    "    'train': DataLoader(data['train'], batch_size=batch_size, shuffle=True,num_workers=0),\n",
    "    'val': DataLoader(data['valid'], batch_size=batch_size, shuffle=True,num_workers=0),\n",
    "    'test': DataLoader(data['test'], batch_size=batch_size, shuffle=True,num_workers=0)\n",
    "}"
   ]
  },
  {
   "cell_type": "code",
   "execution_count": 7,
   "id": "f35e3702",
   "metadata": {},
   "outputs": [
    {
     "name": "stdout",
     "output_type": "stream",
     "text": [
      "['Pushup', 'Squat', 'Lunge', 'Stand', 'Lying']\n",
      "There are 5 different classes.\n"
     ]
    }
   ],
   "source": [
    "categories = []\n",
    "for d in os.listdir(traindir):\n",
    "    categories.append(d)\n",
    "    \n",
    "print(categories)\n",
    "n_classes = len(categories)\n",
    "print(f'There are {n_classes} different classes.')\n"
   ]
  },
  {
   "cell_type": "code",
   "execution_count": 8,
   "id": "0287d495",
   "metadata": {},
   "outputs": [],
   "source": [
    "class_to_idx = data['train'].class_to_idx\n",
    "idx_to_class = {\n",
    "    idx: class_\n",
    "    for class_, idx in data['train'].class_to_idx.items()\n",
    "}"
   ]
  },
  {
   "cell_type": "code",
   "execution_count": 9,
   "id": "db8d8ebc",
   "metadata": {},
   "outputs": [],
   "source": [
    "def load_checkpoint(path):\n",
    "    \"\"\"Load a PyTorch model checkpoint\n",
    "\n",
    "    Params\n",
    "    --------\n",
    "        path (str): saved model checkpoint. Must start with `model_name-` and end in '.pth'\n",
    "\n",
    "    Returns\n",
    "    --------\n",
    "        None, save the `model` to `path`\n",
    "\n",
    "    \"\"\"\n",
    "    \n",
    "    # Get the model name\n",
    "    model_name = path.split('-')[0]\n",
    "    assert (model_name in ['vgg', 'resnet', 'inception', 'alexnet', 'squeezenet', 'densenet'\n",
    "                           ]), \"Path must have the correct model name\"\n",
    "\n",
    "    # Load in checkpoint\n",
    "    checkpoint = torch.load(path)\n",
    "\n",
    "    if model_name == 'vgg':\n",
    "        model = models.vgg16(pretrained=True)\n",
    "        # Make sure to set parameters as not trainable\n",
    "        for param in model.parameters():\n",
    "            param.requires_grad = False\n",
    "        model.classifier = checkpoint['classifier']\n",
    "\n",
    "    elif model_name == 'resnet':\n",
    "        model = models.resnet34(pretrained=True)\n",
    "        # Make sure to set parameters as not trainable\n",
    "        for param in model.parameters():\n",
    "            param.requires_grad = False\n",
    "        model.fc = checkpoint['fc']\n",
    "        \n",
    "    elif model_name == 'inception':\n",
    "        model = models.inception_v3(pretrained=True)\n",
    "        # Make sure to set parameters as not trainable\n",
    "        for param in model.parameters():\n",
    "            param.requires_grad = False\n",
    "        model.fc = checkpoint['fc']\n",
    "        \n",
    "    elif model_name == 'alexnet':\n",
    "        model = models.alexnet(pretrained=True)\n",
    "        # Make sure to set parameters as not trainable\n",
    "        for param in model.parameters():\n",
    "            param.requires_grad = False\n",
    "        model.classifier = checkpoint['classifier']\n",
    "        \n",
    "    elif model_name == 'squeezenet':\n",
    "        model = models.squeezenet1_0(pretrained=True)\n",
    "        # Make sure to set parameters as not trainable\n",
    "        for param in model.parameters():\n",
    "            param.requires_grad = False\n",
    "        model.classifier = checkpoint['classifier']\n",
    "        \n",
    "    elif model_name == 'densenet':\n",
    "        model = models.densenet169(pretrained=True)\n",
    "        # Make sure to set parameters as not trainable\n",
    "        for param in model.parameters():\n",
    "            param.requires_grad = False\n",
    "        model.classifier = checkpoint['classifier']\n",
    "        \n",
    "        \n",
    "    # Load in the state dict\n",
    "    model.load_state_dict(checkpoint['state_dict'])\n",
    "\n",
    "    total_params = sum(p.numel() for p in model.parameters())\n",
    "    print(f'{total_params:,} total parameters.')\n",
    "    total_trainable_params = sum(\n",
    "        p.numel() for p in model.parameters() if p.requires_grad)\n",
    "    print(f'{total_trainable_params:,} total gradient parameters.')\n",
    "\n",
    "    if train_on_gpu:\n",
    "        model = model.to('cuda')\n",
    "\n",
    "    # Model basics\n",
    "    model.class_to_idx = checkpoint['class_to_idx']\n",
    "    model.idx_to_class = checkpoint['idx_to_class']\n",
    "    model.epochs = checkpoint['epochs']\n",
    "\n",
    "    # Optimizer\n",
    "    optimizer = checkpoint['optimizer']\n",
    "    optimizer.load_state_dict(checkpoint['optimizer_state_dict'])\n",
    "\n",
    "    return model, optimizer"
   ]
  },
  {
   "cell_type": "code",
   "execution_count": 10,
   "id": "da7c09b7",
   "metadata": {},
   "outputs": [
    {
     "name": "stdout",
     "output_type": "stream",
     "text": [
      "57,024,325 total parameters.\n",
      "54,554,629 total gradient parameters.\n"
     ]
    }
   ],
   "source": [
    "model, optimizer = load_checkpoint(path=checkpoint_path)"
   ]
  },
  {
   "cell_type": "code",
   "execution_count": 11,
   "id": "3c5e6001",
   "metadata": {},
   "outputs": [],
   "source": [
    "def process_image(image_path):\n",
    "    \"\"\"Process an image path into a PyTorch tensor\"\"\"\n",
    "\n",
    "    image = Image.open(image_path).convert('RGB')\n",
    "    # Resize\n",
    "    img = image.resize((256, 256))\n",
    "\n",
    "    # Center crop\n",
    "    width = 256\n",
    "    height = 256\n",
    "    new_width = 224\n",
    "    new_height = 224\n",
    "\n",
    "    left = (width - new_width) / 2\n",
    "    top = (height - new_height) / 2\n",
    "    right = (width + new_width) / 2\n",
    "    bottom = (height + new_height) / 2\n",
    "    img = img.crop((left, top, right, bottom))\n",
    "\n",
    "    # Convert to numpy, transpose color dimension and normalize\n",
    "    img = np.array(img).transpose((2, 0, 1)) / 256\n",
    "\n",
    "    # Standardization\n",
    "    means = np.array([0.485, 0.456, 0.406]).reshape((3, 1, 1))\n",
    "    stds = np.array([0.229, 0.224, 0.225]).reshape((3, 1, 1))\n",
    "\n",
    "    img = img - means\n",
    "    img = img / stds\n",
    "\n",
    "    img_tensor = torch.Tensor(img)\n",
    "\n",
    "    return img_tensor"
   ]
  },
  {
   "cell_type": "code",
   "execution_count": 12,
   "id": "583fe153",
   "metadata": {},
   "outputs": [],
   "source": [
    "def predict(image_path, model, topk=5):\n",
    "    \"\"\"Make a prediction for an image using a trained model\n",
    "\n",
    "    Params\n",
    "    --------\n",
    "        image_path (str): filename of the image\n",
    "        model (PyTorch model): trained model for inference\n",
    "        topk (int): number of top predictions to return\n",
    "\n",
    "    Returns\n",
    "        \n",
    "    \"\"\"\n",
    "    real_class = image_path.split('/')[-2]\n",
    "\n",
    "    # Convert to pytorch tensor\n",
    "    img_tensor = process_image(image_path)\n",
    "\n",
    "    # Resize\n",
    "    if train_on_gpu:\n",
    "        img_tensor = img_tensor.view(1, 3, 224, 224).cuda()\n",
    "    else:\n",
    "        img_tensor = img_tensor.view(1, 3, 224, 224)\n",
    "\n",
    "    # Set to evaluation\n",
    "    with torch.no_grad():\n",
    "        model.eval()\n",
    "        # Model outputs log probabilities\n",
    "        out = model(img_tensor)\n",
    "        #ps = torch.exp(out)\n",
    "        probabilities = torch.nn.functional.softmax(out[0], dim=0)\n",
    "\n",
    "        # Find the topk predictions\n",
    "        topk, topclass = out.topk(topk, dim=1)\n",
    "        topk, topclass = torch.topk(probabilities, 5)\n",
    "\n",
    "        # Extract the actual classes and probabilities\n",
    "        top_classes = [\n",
    "            model.idx_to_class[class_] for class_ in topclass.cpu().numpy()\n",
    "        ]\n",
    "        top_p = topk.cpu().numpy()\n",
    "        \n",
    "\n",
    "        return img_tensor.cpu().squeeze(), top_p, top_classes, real_class"
   ]
  },
  {
   "cell_type": "code",
   "execution_count": 13,
   "id": "8b55d088",
   "metadata": {},
   "outputs": [
    {
     "data": {
      "image/png": "[encoded data removed]",
      "text/plain": [
       "<Figure size 432x288 with 1 Axes>"
      ]
     },
     "metadata": {
      "needs_background": "light"
     },
     "output_type": "display_data"
    }
   ],
   "source": [
    "np.random.seed = 100\n",
    "\n",
    "\n",
    "def random_test_image():\n",
    "    \"\"\"Pick a random test image from the test directory\"\"\"\n",
    "    c = np.random.choice(categories)\n",
    "    root = testdir +\"/\"+ c + '/'\n",
    "    img_path = root + np.random.choice(os.listdir(root))\n",
    "    return img_path\n",
    "\n",
    "\n",
    "_ = imshow_tensor(process_image(random_test_image()))"
   ]
  },
  {
   "cell_type": "code",
   "execution_count": 14,
   "id": "fbb4f997",
   "metadata": {},
   "outputs": [],
   "source": [
    "img, top_p, top_classes, real_class = predict(random_test_image(), model,topk=2)"
   ]
  },
  {
   "cell_type": "code",
   "execution_count": 15,
   "id": "37ec0b42",
   "metadata": {},
   "outputs": [
    {
     "data": {
      "text/plain": [
       "(array([1., 0., 0., 0., 0.], dtype=float32),\n",
       " ['Pushup', 'Squat', 'Lunge', 'Stand', 'Lying'],\n",
       " 'Pushup')"
      ]
     },
     "execution_count": 15,
     "metadata": {},
     "output_type": "execute_result"
    }
   ],
   "source": [
    "top_p, top_classes, real_class"
   ]
  },
  {
   "cell_type": "code",
   "execution_count": 16,
   "id": "56863be2",
   "metadata": {},
   "outputs": [],
   "source": [
    "def display_prediction(image_path, model, topk):\n",
    "    \"\"\"Display image and preditions from model\"\"\"\n",
    "\n",
    "    # Get predictions\n",
    "    img, ps, classes, y_obs = predict(image_path, model, topk)\n",
    "    # Convert results to dataframe for plotting\n",
    "    result = pd.DataFrame({'p': ps}, index=classes)\n",
    "    #print(result)\n",
    "    '''max = result.max()\n",
    "    #print(max)\n",
    "    min = result.min()\n",
    "    #print(min)\n",
    "    k = max - min\n",
    "    result.at['Stand', 'p'] = (result.at['Stand', 'p'] - min) / k\n",
    "    print(result.at['Stand', 'p'])\n",
    "    result.at['Squat', 'p'] = (result.at['Squat', 'p'] - min) / k\n",
    "    print(result.at['Squat', 'p'])\n",
    "    result.at['Lunge', 'p'] = (result.at['Lunge', 'p'] - min) / k\n",
    "    print(result.at['Lunge', 'p'])\n",
    "    result.at['Lying', 'p'] = (result.at['Lying', 'p'] - min) / k\n",
    "    print(result.at['Lying', 'p'])\n",
    "    result.at['Pushup', 'p'] = (result.at['Pushup', 'p'] - min) / k\n",
    "    print(result.at['Pushup', 'p'])\n",
    "    #result['p'] = [(result.loc[0, 'p'] - min)/k, (result.loc[1, 'p'] - min)/k, (result.loc[2, 'p'] - min)/k, (result.loc[3, 'p'] - min)/k, (result.loc[4, 'p'] - min)/k]\n",
    "    print(result)\n",
    "    all = result.at['Stand', 'p'] + result.at['Squat', 'p'] + result.at['Lunge', 'p'] + result.at['Lying', 'p'] + result.at['Pushup', 'p']\n",
    "    print(all)\n",
    "    result.at['Stand', 'p'] = result.at['Stand', 'p'] / all\n",
    "    print(result.at['Stand', 'p'])\n",
    "    result.at['Squat', 'p'] = result.at['Squat', 'p'] / all\n",
    "    print(result.at['Squat', 'p'])\n",
    "    result.at['Lunge', 'p'] = result.at['Lunge', 'p'] / all\n",
    "    print(result.at['Lunge', 'p'])\n",
    "    result.at['Lying', 'p'] = result.at['Lying', 'p'] / all\n",
    "    print(result.at['Lying', 'p'])\n",
    "    result.at['Pushup', 'p'] = result.at['Pushup', 'p'] / all\n",
    "    print(result.at['Pushup', 'p'])\n",
    "    print(result)'''\n",
    "    \n",
    "    # Show the image\n",
    "    plt.figure(figsize=(16, 5))\n",
    "    ax = plt.subplot(1, 2, 1)\n",
    "    ax, img = imshow_tensor(img, ax=ax)\n",
    "\n",
    "    # Set title to be the actual class\n",
    "    ax.set_title(y_obs, size=20)\n",
    "\n",
    "    ax = plt.subplot(1, 2, 2)\n",
    "    plt.xlim([0, 1])\n",
    "    # Plot a bar plot of predictions\n",
    "    result.sort_values('p')['p'].plot.barh(color='blue', edgecolor='k', ax=ax)\n",
    "    plt.xlabel('Predicted Probability')\n",
    "    plt.tight_layout()"
   ]
  },
  {
   "cell_type": "code",
   "execution_count": 112,
   "id": "3a969cbd",
   "metadata": {},
   "outputs": [
    {
     "data": {
      "image/png": "[encoded data removed]",
      "text/plain": [
       "<Figure size 1152x360 with 2 Axes>"
      ]
     },
     "metadata": {
      "needs_background": "light"
     },
     "output_type": "display_data"
    }
   ],
   "source": [
    "display_prediction(random_test_image(), model, topk=5)"
   ]
  },
  {
   "cell_type": "code",
   "execution_count": 102,
   "id": "dd332f38",
   "metadata": {},
   "outputs": [],
   "source": [
    "def accuracy(output, target, topk=(1, )):\n",
    "    \"\"\"Compute the topk accuracy(s)\"\"\"\n",
    "    if train_on_gpu:\n",
    "        output = output.to('cuda')\n",
    "        target = target.to('cuda')\n",
    "\n",
    "    with torch.no_grad():\n",
    "        maxk = max(topk)\n",
    "        batch_size = target.size(0)\n",
    "\n",
    "        # Find the predicted classes and transpose\n",
    "        _, pred = output.topk(k=maxk, dim=1, largest=True, sorted=True)\n",
    "        pred = pred.t()\n",
    "\n",
    "        # Determine predictions equal to the targets\n",
    "        correct = pred.eq(target.view(1, -1).expand_as(pred))\n",
    "\n",
    "        res = []\n",
    "\n",
    "        # For each k, find the percentage of correct\n",
    "        for k in topk:\n",
    "            correct_k = correct[:k].contiguous().view(-1).float().sum(0, keepdim=True)\n",
    "            res.append(correct_k.mul_(100.0 / batch_size).item())\n",
    "        return res"
   ]
  },
  {
   "cell_type": "code",
   "execution_count": 43,
   "id": "41da7d49",
   "metadata": {},
   "outputs": [
    {
     "name": "stdout",
     "output_type": "stream",
     "text": [
      "[100.0]\n"
     ]
    }
   ],
   "source": [
    "testiter = iter(dataloaders['test'])\n",
    "# Get a batch of testing images and labels\n",
    "features, targets = next(testiter)\n",
    "\n",
    "if train_on_gpu:\n",
    "    res = accuracy(model(features.to('cuda')), targets, topk=(1,))\n",
    "else:\n",
    "    res = accuracy(model(features), targets, topk=(1, 5))\n",
    "print(res)"
   ]
  },
  {
   "cell_type": "code",
   "execution_count": null,
   "id": "41d5329b",
   "metadata": {},
   "outputs": [],
   "source": []
  }
 ],
 "metadata": {
  "kernelspec": {
   "display_name": "PyTorch 1.10 (NGC 21.11/Python 3.8 Conda) on Backend.AI",
   "language": "python",
   "name": "python3"
  },
  "language_info": {
   "codemirror_mode": {
    "name": "ipython",
    "version": 3
   },
   "file_extension": ".py",
   "mimetype": "text/x-python",
   "name": "python",
   "nbconvert_exporter": "python",
   "pygments_lexer": "ipython3",
   "version": "3.8.12"
  }
 },
 "nbformat": 4,
 "nbformat_minor": 5
}
