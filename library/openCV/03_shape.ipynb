{
 "cells": [
  {
   "cell_type": "code",
   "execution_count": 1,
   "metadata": {},
   "outputs": [],
   "source": [
    "# 도형 그리기\n",
    "\n",
    "import cv2\n",
    "import numpy as np\n",
    "\n",
    "# 세로 480 x 가로 640 x RGB 스케치북\n",
    "img = np.zeros((480,640,3), dtype=np.uint8)\n",
    "\n",
    "# img[:] = (255,255,255) #전체 공간을 흰색으로 채우기\n",
    "#            B   G   R\n",
    "\n",
    "cv2.imshow('shape', img)\n",
    "\n",
    "cv2.waitKey(0)\n",
    "cv2.destroyAllWindows()"
   ]
  },
  {
   "cell_type": "code",
   "execution_count": 1,
   "id": "23ee08e2",
   "metadata": {},
   "outputs": [],
   "source": [
    "# 일부 영역 색칠\n",
    "\n",
    "import cv2\n",
    "import numpy as np\n",
    "\n",
    "# 세로 480 x 가로 640 x RGB 스케치북\n",
    "img = np.zeros((480,640,3), dtype=np.uint8)\n",
    "\n",
    "# point\n",
    "img[100:200,200:300] = (255,255,255) #세로기준 : 100에서 200 | 가로기준 : 200에서 300\n",
    "\n",
    "cv2.imshow('shape', img)\n",
    "\n",
    "cv2.waitKey(0)\n",
    "\n",
    "cv2.destroyAllWindows()\n",
    "cv2.waitKey(1)"
   ]
  },
  {
   "cell_type": "code",
   "execution_count": 1,
   "id": "7d6a841c",
   "metadata": {},
   "outputs": [
    {
     "data": {
      "text/plain": [
       "-1"
      ]
     },
     "execution_count": 1,
     "metadata": {},
     "output_type": "execute_result"
    }
   ],
   "source": [
    "# 직선 그리기\n",
    "# 1. cv2,LINE_4 : 상하좌우 4 방향으로 연결된 선\n",
    "# 2. cv2.LINE_8 : 대각선을 포함한 8 방향으로 연결된 선 (기본값임)\n",
    "# 3. cv2.LINE_AA : 부드러운 선 (anti-aliasing)\n",
    "\n",
    "import cv2\n",
    "import numpy as np\n",
    "\n",
    "img = np.zeros((480,640,3) , dtype=np.uint8)\n",
    "\n",
    "COLOR = (0,255,255) # Yellow\n",
    "THICKNESS = 3 # 두께\n",
    "\n",
    "# point\n",
    "cv2.line(img, (50,100) , (400,50), COLOR, THICKNESS, cv2.LINE_8) #(50,100)에서 (400,50)까지 선을 그음\n",
    "#      그릴 위치  시작점       끝점      색깔      두께        선종류\n",
    "\n",
    "cv2.line(img, (50,200) , (400,150), COLOR, THICKNESS, cv2.LINE_4)\n",
    "cv2.line(img, (50,300) , (400,250), COLOR, THICKNESS, cv2.LINE_AA)\n",
    "\n",
    "cv2.imshow('img',img)\n",
    "cv2.waitKey(0)\n",
    "\n",
    "cv2.destroyAllWindows()\n",
    "cv2.waitKey(1)"
   ]
  },
  {
   "cell_type": "code",
   "execution_count": 1,
   "id": "881d0b24",
   "metadata": {},
   "outputs": [
    {
     "data": {
      "text/plain": [
       "-1"
      ]
     },
     "execution_count": 1,
     "metadata": {},
     "output_type": "execute_result"
    }
   ],
   "source": [
    "# 원\n",
    "\n",
    "import cv2\n",
    "import numpy as np\n",
    "\n",
    "img = np.zeros((480,640,3) , dtype=np.uint8)\n",
    "\n",
    "COLOR = (255,255,0) # BGR\n",
    "RADIUS = 50\n",
    "THICKNESS = 10\n",
    "\n",
    "cv2.circle(img, (200,100), RADIUS , COLOR , THICKNESS , cv2.LINE_AA) #속이 빈 원\n",
    "#         그릴위치  원중심     반지름     색깔      두께\n",
    "\n",
    "cv2.circle(img, (400,100), RADIUS , COLOR , cv2.FILLED , cv2.LINE_AA) #속이 꽉 찬 원\n",
    "\n",
    "cv2.imshow('img',img)\n",
    "cv2.waitKey(0)\n",
    "\n",
    "cv2.destroyAllWindows()\n",
    "cv2.waitKey(1)\n"
   ]
  },
  {
   "cell_type": "code",
   "execution_count": 1,
   "id": "a2d5f97c",
   "metadata": {},
   "outputs": [
    {
     "data": {
      "text/plain": [
       "-1"
      ]
     },
     "execution_count": 1,
     "metadata": {},
     "output_type": "execute_result"
    }
   ],
   "source": [
    "# 사각형\n",
    "\n",
    "import cv2\n",
    "import numpy as np\n",
    "\n",
    "img = np.zeros((480,640,3) , dtype=np.uint8)\n",
    "\n",
    "COLOR = (0,255,0) # BGR\n",
    "THICKNESS = 3\n",
    "\n",
    "#속이 빈 사각형\n",
    "cv2.rectangle(img, (100,100), (200,200), COLOR, THICKNESS) #(100,100)에서 (200,200)까지\n",
    "#            그릴위치  왼쪽위      오른쪽아래   색깔      두께\n",
    "\n",
    "#속이 채워진 사각형\n",
    "cv2.rectangle(img, (300,100), (400,300), COLOR, cv2.FILLED)\n",
    "\n",
    "cv2.imshow('img',img)\n",
    "cv2.waitKey(0)\n",
    "\n",
    "cv2.destroyAllWindows()\n",
    "cv2.waitKey(1)"
   ]
  },
  {
   "cell_type": "code",
   "execution_count": 1,
   "id": "ce7c7fb5",
   "metadata": {},
   "outputs": [
    {
     "data": {
      "text/plain": [
       "-1"
      ]
     },
     "execution_count": 1,
     "metadata": {},
     "output_type": "execute_result"
    }
   ],
   "source": [
    "# 다각형\n",
    "\n",
    "import cv2\n",
    "import numpy as np\n",
    "\n",
    "img = np.zeros((480,640,3) , dtype=np.uint8)\n",
    "\n",
    "COLOR = (0,0,255) # BGR\n",
    "THICKNESS = 3\n",
    "\n",
    "pts1 = np.array([[100,100],[200,100],[100,200]]) # 3개의 점\n",
    "pts2 = np.array([[200,100],[300,100],[300,200]])\n",
    "\n",
    "# 일반 다각형\n",
    "cv2.polylines(img, [pts1], True, COLOR, THICKNESS , cv2.LINE_AA) \n",
    "cv2.polylines(img, [pts2], True, COLOR, THICKNESS , cv2.LINE_AA) \n",
    "#           그릴위치   점     끝점과 처음점을 이을건지\n",
    "#cv2.polylines(img, [pts1, pts2], True, COLOR, THICKNESS , cv2.LINE_AA) #pts1의 점과 pts2의 점을 모두 그음\n",
    "\n",
    "# 꽉찬 다각형\n",
    "pts3 = np.array([[[100,300],[200,300],[100,400]],[[200,300],[300,300],[300,400]]])\n",
    "cv2.fillPoly(img,pts3, COLOR, cv2.LINE_AA)\n",
    "\n",
    "cv2.imshow('img',img)\n",
    "cv2.waitKey(0)\n",
    "\n",
    "cv2.destroyAllWindows()\n",
    "cv2.waitKey(1)\n"
   ]
  }
 ],
 "metadata": {
  "interpreter": {
   "hash": "b0fa6594d8f4cbf19f97940f81e996739fb7646882a419484c72d19e05852a7e"
  },
  "kernelspec": {
   "display_name": "Python 3.9.12 64-bit",
   "language": "python",
   "name": "python3"
  },
  "language_info": {
   "codemirror_mode": {
    "name": "ipython",
    "version": 3
   },
   "file_extension": ".py",
   "mimetype": "text/x-python",
   "name": "python",
   "nbconvert_exporter": "python",
   "pygments_lexer": "ipython3",
   "version": "3.9.13"
  }
 },
 "nbformat": 4,
 "nbformat_minor": 5
}
