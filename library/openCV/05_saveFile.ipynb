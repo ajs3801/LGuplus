{
 "cells": [
  {
   "cell_type": "code",
   "execution_count": 1,
   "metadata": {},
   "outputs": [
    {
     "name": "stdout",
     "output_type": "stream",
     "text": [
      "True\n"
     ]
    }
   ],
   "source": [
    "#이미지 저장\n",
    "\n",
    "import cv2\n",
    "\n",
    "img = cv2.imread('image/img.jpg', cv2.IMREAD_GRAYSCALE) #흑백으로 이미지 불러오기\n",
    "\n",
    "# 이미지 저장\n",
    "result = cv2.imwrite('image/img_save.jpg', img)\n",
    "print(result)"
   ]
  },
  {
   "cell_type": "code",
   "execution_count": null,
   "metadata": {},
   "outputs": [],
   "source": [
    "# 저장 format jpg,png\n",
    "import cv2\n",
    "\n",
    "img = cv2.imread('image/img.jpg', cv2.IMREAD_GRAYSCALE) #흑백으로 이미지 불러오기\n",
    "\n",
    "# 이미지 저장\n",
    "cv2.imwrite('image/img_save2png.png', img)\n",
    "cv2.imwrite('image/img_save2jpg.jpg', img)\n"
   ]
  },
  {
   "cell_type": "code",
   "execution_count": 2,
   "metadata": {},
   "outputs": [
    {
     "data": {
      "text/plain": [
       "-1"
      ]
     },
     "execution_count": 2,
     "metadata": {},
     "output_type": "execute_result"
    }
   ],
   "source": [
    "# 동영상 저장\n",
    "import cv2\n",
    "\n",
    "cap = cv2.VideoCapture('video/corgi.mp4')\n",
    "\n",
    "# 코덱 정의\n",
    "fourcc = cv2.VideoWriter_fourcc(*'DIVX')\n",
    "\n",
    "# 프레임 크기, FPS\n",
    "width = round(cap.get(cv2.CAP_PROP_FRAME_WIDTH))\n",
    "height = round(cap.get(cv2.CAP_PROP_FRAME_HEIGHT))\n",
    "fps = cap.get(cv2.CAP_PROP_FPS)\n",
    "# fps = cap.get(cv2.CAP_PROP_FPS) * 2 # 2배로 재생하고 write\n",
    "\n",
    "out = cv2.VideoWriter('output.avi', fourcc, fps, (width,height))\n",
    "#                      저장파일명       코덱   fps    크기\n",
    "# codec = 'DIVX'\n",
    "# print(codec)\n",
    "# print(*codec) 한글자씩 쪼개서 출력됨\n",
    "# print([codec])\n",
    "# print([*codec])\n",
    "\n",
    "while cap.isOpened():\n",
    "  ret, frame = cap.read()\n",
    "\n",
    "  if not ret:\n",
    "    break\n",
    "\n",
    "  out.write(frame) # 영상데이터만 저장 (소리 X)\n",
    "  cv2.imshow('video',frame)\n",
    "\n",
    "  if cv2.waitKey(1) & 0xFF == ord('q'):\n",
    "    break\n",
    "\n",
    "out.release()\n",
    "cap.release()\n",
    "\n",
    "cv2.destroyAllWindows()\n",
    "cv2.waitKey(1)"
   ]
  }
 ],
 "metadata": {
  "interpreter": {
   "hash": "b0fa6594d8f4cbf19f97940f81e996739fb7646882a419484c72d19e05852a7e"
  },
  "kernelspec": {
   "display_name": "Python 3.9.12 64-bit",
   "language": "python",
   "name": "python3"
  },
  "language_info": {
   "codemirror_mode": {
    "name": "ipython",
    "version": 3
   },
   "file_extension": ".py",
   "mimetype": "text/x-python",
   "name": "python",
   "nbconvert_exporter": "python",
   "pygments_lexer": "ipython3",
   "version": "3.9.13"
  },
  "orig_nbformat": 4
 },
 "nbformat": 4,
 "nbformat_minor": 2
}
